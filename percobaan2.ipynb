{
 "metadata": {
  "language_info": {
   "codemirror_mode": {
    "name": "ipython",
    "version": 3
   },
   "file_extension": ".py",
   "mimetype": "text/x-python",
   "name": "python",
   "nbconvert_exporter": "python",
   "pygments_lexer": "ipython3",
   "version": "3.8.5-final"
  },
  "orig_nbformat": 2,
  "kernelspec": {
   "name": "Python 3.8.5 32-bit",
   "display_name": "Python 3.8.5 32-bit",
   "metadata": {
    "interpreter": {
     "hash": "7987c57931f2365761dc2a5f85e647decf73af6edff0c78918b92bfe7c5512ba"
    }
   }
  }
 },
 "nbformat": 4,
 "nbformat_minor": 2,
 "cells": [
  {
   "cell_type": "code",
   "execution_count": null,
   "metadata": {},
   "outputs": [],
   "source": []
  },
  {
   "cell_type": "code",
   "execution_count": 10,
   "metadata": {},
   "outputs": [
    {
     "output_type": "stream",
     "name": "stdout",
     "text": [
      "    YearsExperience    Salary\n0          0.019041  0.019041\n1          0.100094  0.100094\n2          0.000000  0.000000\n3          0.068438  0.068438\n4          0.025514  0.025514\n5          0.223376  0.223376\n6          0.264812  0.264812\n7          0.197425  0.197425\n8          0.315545  0.315545\n9          0.229837  0.229837\n10         0.301051  0.301051\n11         0.213359  0.213359\n12         0.227097  0.227097\n13         0.228561  0.228561\n14         0.276163  0.276163\n15         0.356804  0.356804\n16         0.334255  0.334255\n17         0.535755  0.535755\n18         0.515379  0.515379\n19         0.663938  0.663938\n20         0.637928  0.637928\n21         0.715119  0.715119\n22         0.750898  0.750898\n23         0.898665  0.898665\n24         0.846917  0.846917\n25         0.801453  0.801453\n26         0.935956  0.935956\n27         0.884763  0.884763\n28         1.000000  1.000000\n29         0.993870  0.993870\n"
     ]
    }
   ],
   "source": [
    "import pandas as pd\n",
    "import numpy as np\n",
    "import sklearn\n",
    "from sklearn import preprocessing \n",
    "from sklearn.preprocessing import MinMaxScaler\n",
    "\n",
    "\n",
    "\n",
    "csv_data = pd.read_csv(\"Salary_Data.csv\")\n",
    "array = csv_data.values \n",
    "X = array[:,1:2] #Nilai yang harus diubah 1 itu adalah minimal karna ia berada pada puluhan dan kenapa satu karena di list YearExperience berada di satu \n",
    "\n",
    "scaler = preprocessing.MinMaxScaler(feature_range=(0,1)) #future range adalah 0,1 itu adalah default \n",
    "data = scaler.fit_transform(X)\n",
    "dataset = pd.DataFrame({'YearsExperience': data[:, 0],'Salary':data[:,0] }) #data frame membuat data menjadi rapi \n",
    "\n",
    "print(dataset)\n"
   ]
  },
  {
   "cell_type": "code",
   "execution_count": 11,
   "metadata": {},
   "outputs": [
    {
     "output_type": "stream",
     "name": "stdout",
     "text": [
      "   YearsExperience   Salary\n0              1.1  39343.0\n1              1.3  46205.0\n2              1.5  37731.0\n3              2.0  43525.0\n4              2.2  39891.0\n5              2.9  56642.0\n6              3.0  60150.0\n7              3.2  54445.0\n8              3.2  64445.0\n9              3.7  57189.0\n"
     ]
    }
   ],
   "source": [
    "import pandas as pd\n",
    "import numpy as np\n",
    "import sklearn\n",
    "from sklearn import preprocessing \n",
    "from sklearn.preprocessing import MinMaxScaler\n",
    "\n",
    "csv_data = pd.read_csv(\"Salary_Data.csv\") \n",
    "csv_data.columns\n",
    "print(csv_data.head(10))"
   ]
  },
  {
   "cell_type": "code",
   "execution_count": 13,
   "metadata": {},
   "outputs": [
    {
     "output_type": "stream",
     "name": "stdout",
     "text": [
      "MinMaxScaler()\n"
     ]
    }
   ],
   "source": [
    "import pandas as pd\n",
    "import numpy as np\n",
    "import sklearn\n",
    "from sklearn import preprocessing \n",
    "from sklearn.preprocessing import MinMaxScaler\n",
    "\n",
    "\n",
    "\n",
    "csv_data = pd.read_csv(\"Salary_Data.csv\")\n",
    "scaler = MinMaxScaler()\n",
    "print(scaler.fit(csv_data)) #mengetes apakah bisa menggunakan minmax scaler "
   ]
  },
  {
   "cell_type": "code",
   "execution_count": null,
   "metadata": {},
   "outputs": [],
   "source": []
  }
 ]
}